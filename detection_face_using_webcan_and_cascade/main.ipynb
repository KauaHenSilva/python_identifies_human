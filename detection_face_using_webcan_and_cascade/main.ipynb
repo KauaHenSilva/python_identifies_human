{
 "cells": [
  {
   "cell_type": "code",
   "execution_count": 3,
   "metadata": {},
   "outputs": [
    {
     "name": "stdout",
     "output_type": "stream",
     "text": [
      "Requirement already satisfied: opencv-python in c:\\users\\kauas.desktop-j950btk\\anaconda3\\lib\\site-packages (4.10.0.82)\n",
      "Requirement already satisfied: numpy>=1.21.2 in c:\\users\\kauas.desktop-j950btk\\anaconda3\\lib\\site-packages (from opencv-python) (1.26.4)\n",
      "Note: you may need to restart the kernel to use updated packages.\n",
      "Requirement already satisfied: matplotlib in c:\\users\\kauas.desktop-j950btk\\anaconda3\\lib\\site-packages (3.8.0)\n",
      "Requirement already satisfied: contourpy>=1.0.1 in c:\\users\\kauas.desktop-j950btk\\anaconda3\\lib\\site-packages (from matplotlib) (1.2.0)\n",
      "Requirement already satisfied: cycler>=0.10 in c:\\users\\kauas.desktop-j950btk\\anaconda3\\lib\\site-packages (from matplotlib) (0.11.0)\n",
      "Requirement already satisfied: fonttools>=4.22.0 in c:\\users\\kauas.desktop-j950btk\\anaconda3\\lib\\site-packages (from matplotlib) (4.25.0)\n",
      "Requirement already satisfied: kiwisolver>=1.0.1 in c:\\users\\kauas.desktop-j950btk\\anaconda3\\lib\\site-packages (from matplotlib) (1.4.4)\n",
      "Requirement already satisfied: numpy<2,>=1.21 in c:\\users\\kauas.desktop-j950btk\\anaconda3\\lib\\site-packages (from matplotlib) (1.26.4)\n",
      "Requirement already satisfied: packaging>=20.0 in c:\\users\\kauas.desktop-j950btk\\anaconda3\\lib\\site-packages (from matplotlib) (23.1)\n",
      "Requirement already satisfied: pillow>=6.2.0 in c:\\users\\kauas.desktop-j950btk\\anaconda3\\lib\\site-packages (from matplotlib) (10.2.0)\n",
      "Requirement already satisfied: pyparsing>=2.3.1 in c:\\users\\kauas.desktop-j950btk\\anaconda3\\lib\\site-packages (from matplotlib) (3.0.9)\n",
      "Requirement already satisfied: python-dateutil>=2.7 in c:\\users\\kauas.desktop-j950btk\\anaconda3\\lib\\site-packages (from matplotlib) (2.8.2)\n",
      "Requirement already satisfied: six>=1.5 in c:\\users\\kauas.desktop-j950btk\\anaconda3\\lib\\site-packages (from python-dateutil>=2.7->matplotlib) (1.16.0)\n",
      "Note: you may need to restart the kernel to use updated packages.\n"
     ]
    },
    {
     "name": "stderr",
     "output_type": "stream",
     "text": [
      "--2024-06-16 16:10:15--  https://raw.githubusercontent.com/opencv/opencv/master/data/haarcascades/haarcascade_frontalface_default.xml\n",
      "Loaded CA certificate '/usr/ssl/certs/ca-bundle.crt'\n",
      "Resolving raw.githubusercontent.com (raw.githubusercontent.com)... 185.199.111.133, 185.199.108.133, 185.199.109.133, ...\n",
      "Connecting to raw.githubusercontent.com (raw.githubusercontent.com)|185.199.111.133|:443... connected.\n",
      "HTTP request sent, awaiting response... 200 OK\n",
      "Length: 930127 (908K) [text/plain]\n",
      "Saving to: 'haarcascade_frontalface_default.xml.1'\n",
      "\n",
      "     0K .......... .......... .......... .......... ..........  5% 2.80M 0s\n",
      "    50K .......... .......... .......... .......... .......... 11% 5.38M 0s\n",
      "   100K .......... .......... .......... .......... .......... 16% 5.95M 0s\n",
      "   150K .......... .......... .......... .......... .......... 22% 6.92M 0s\n",
      "   200K .......... .......... .......... .......... .......... 27% 6.65M 0s\n",
      "   250K .......... .......... .......... .......... .......... 33% 4.77M 0s\n",
      "   300K .......... .......... .......... .......... .......... 38% 10.7M 0s\n",
      "   350K .......... .......... .......... .......... .......... 44% 15.3M 0s\n",
      "   400K .......... .......... .......... .......... .......... 49% 15.9M 0s\n",
      "   450K .......... .......... .......... .......... .......... 55% 7.92M 0s\n",
      "   500K .......... .......... .......... .......... .......... 60% 9.62M 0s\n",
      "   550K .......... .......... .......... .......... .......... 66% 14.1M 0s\n",
      "   600K .......... .......... .......... .......... .......... 71% 11.2M 0s\n",
      "   650K .......... .......... .......... .......... .......... 77% 2.85M 0s\n",
      "   700K .......... .......... .......... .......... .......... 82% 9.09M 0s\n",
      "   750K .......... .......... .......... .......... .......... 88% 15.8M 0s\n",
      "   800K .......... .......... .......... .......... .......... 93% 16.1M 0s\n",
      "   850K .......... .......... .......... .......... .......... 99% 13.5M 0s\n",
      "   900K ........                                              100%  159G=0.1s\n",
      "\n",
      "2024-06-16 16:10:16 (7.30 MB/s) - 'haarcascade_frontalface_default.xml.1' saved [930127/930127]\n",
      "\n",
      "--2024-06-16 16:10:16--  https://raw.githubusercontent.com/opencv/opencv/master/data/haarcascades/haarcascade_eye.xml\n",
      "Loaded CA certificate '/usr/ssl/certs/ca-bundle.crt'\n",
      "Resolving raw.githubusercontent.com (raw.githubusercontent.com)... 185.199.111.133, 185.199.108.133, 185.199.109.133, ...\n",
      "Connecting to raw.githubusercontent.com (raw.githubusercontent.com)|185.199.111.133|:443... connected.\n",
      "HTTP request sent, awaiting response... 200 OK\n",
      "Length: 341406 (333K) [text/plain]\n",
      "Saving to: 'haarcascade_eye.xml'\n",
      "\n",
      "     0K .......... .......... .......... .......... .......... 14% 2.97M 0s\n",
      "    50K .......... .......... .......... .......... .......... 29% 1.83M 0s\n",
      "   100K .......... .......... .......... .......... .......... 44% 1.24M 0s\n",
      "   150K .......... .......... .......... .......... .......... 59% 17.2M 0s\n",
      "   200K .......... .......... .......... .......... .......... 74% 1.28M 0s\n",
      "   250K .......... .......... .......... .......... .......... 89% 9.99M 0s\n",
      "   300K .......... .......... .......... ...                  100% 2.77M=0.1s\n",
      "\n",
      "2024-06-16 16:10:16 (2.33 MB/s) - 'haarcascade_eye.xml' saved [341406/341406]\n",
      "\n"
     ]
    }
   ],
   "source": [
    "# requisites cv2 and matplotlib\n",
    "%pip install opencv-python\n",
    "%pip install matplotlib\n",
    "\n",
    "# get cascade face detector\n",
    "!wget https://raw.githubusercontent.com/opencv/opencv/master/data/haarcascades/haarcascade_frontalface_default.xml\n",
    "\n",
    "# get cascade eye detector\n",
    "!wget https://raw.githubusercontent.com/opencv/opencv/master/data/haarcascades/haarcascade_eye.xml"
   ]
  },
  {
   "cell_type": "code",
   "execution_count": 4,
   "metadata": {},
   "outputs": [],
   "source": [
    "import cv2"
   ]
  },
  {
   "cell_type": "code",
   "execution_count": 11,
   "metadata": {},
   "outputs": [],
   "source": [
    "import cv2\n",
    "\n",
    "face_detector = cv2.CascadeClassifier('haarcascade_frontalface_default.xml')\n",
    "eye_detector = cv2.CascadeClassifier('haarcascade_eye.xml')\n",
    "\n",
    "video_capture = cv2.VideoCapture(0)\n",
    "\n",
    "while True:\n",
    "    ret, frame = video_capture.read()\n",
    "    image_gray = cv2.cvtColor(frame, cv2.COLOR_BGR2GRAY)\n",
    "\n",
    "    detectionsFace = face_detector.detectMultiScale(image_gray)\n",
    "\n",
    "    for (x, y, w, h) in detectionsFace:\n",
    "        cv2.rectangle(frame, (x, y), (x+w, y+h), (255, 255, 255), 2)\n",
    "        \n",
    "        roi_gray = image_gray[y:y+h, x:x+w]\n",
    "        roi_color = frame[y:y+h, x:x+w]\n",
    "        \n",
    "        detectionsEye = eye_detector.detectMultiScale(roi_gray)\n",
    "        for (ex, ey, ew, eh) in detectionsEye:\n",
    "            cv2.rectangle(roi_color, (ex, ey), (ex+ew, ey+eh), (255, 0, 0), 2)\n",
    "\n",
    "    cv2.imshow('Video', frame)\n",
    "\n",
    "    if cv2.waitKey(1) & 0xFF == ord('q'):\n",
    "        break\n",
    "\n",
    "video_capture.release()\n",
    "cv2.destroyAllWindows()"
   ]
  }
 ],
 "metadata": {
  "kernelspec": {
   "display_name": "Python 3",
   "language": "python",
   "name": "python3"
  },
  "language_info": {
   "codemirror_mode": {
    "name": "ipython",
    "version": 3
   },
   "file_extension": ".py",
   "mimetype": "text/x-python",
   "name": "python",
   "nbconvert_exporter": "python",
   "pygments_lexer": "ipython3",
   "version": "3.11.7"
  }
 },
 "nbformat": 4,
 "nbformat_minor": 2
}
